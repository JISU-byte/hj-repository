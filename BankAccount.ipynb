{
  "nbformat": 4,
  "nbformat_minor": 0,
  "metadata": {
    "colab": {
      "provenance": []
    },
    "kernelspec": {
      "name": "python3",
      "display_name": "Python 3"
    },
    "language_info": {
      "name": "python"
    }
  },
  "cells": [
    {
      "cell_type": "code",
      "execution_count": null,
      "metadata": {
        "colab": {
          "base_uri": "https://localhost:8080/"
        },
        "id": "BCr42-zw-c8_",
        "outputId": "56efafbf-3bdc-4672-9573-8a607841aba3"
      },
      "outputs": [
        {
          "output_type": "stream",
          "name": "stdout",
          "text": [
            "Pair Programming 연습\n"
          ]
        }
      ],
      "source": [
        "print(\"Pair Programming 연습\")"
      ]
    },
    {
      "cell_type": "markdown",
      "source": [
        "### 1. Account 클래스\n",
        " - 은행 이름, 예금주, 계좌번호, 잔액 설정\n",
        " - 은행이름은 '모두은행'\n",
        " - 계좌번호는 3자리-2자리-6자리 형태로 랜덤하게 생성\n",
        " - 클래스 변수를 사용해서 Account 클래스로부터 생성된 계좌\n",
        " - 객체의 개수 저장\n",
        "### 2. 입금 메서드\n",
        " - 입금은 최소 1원 이상만 가능\n",
        " - 입금 횟수가 5회가 될 때 잔고 기준으로 1% 이자 지급\n",
        " - 입금 내역 기록\n",
        "### 3. 출금 메서드\n",
        " - 출금은 계좌의 잔고 이상으로 할 수 없음\n",
        " - 출금 내역 기록\n",
        "### 4. get_account_num() 메서드\n",
        " - Account 클래스로부터 생성된 계좌 개수 출력\n",
        "### 5. history() 메서드\n",
        " - 입금 내역과 출금 내역을 출력"
      ],
      "metadata": {
        "id": "aoQ6cYesQQKq"
      }
    },
    {
      "cell_type": "code",
      "source": [
        "import random as r\n",
        "\n",
        "class Account:\n",
        "  bank_name = '모두은행'\n",
        "  account_number = 0\n",
        "  num_accounts = 0\n",
        "\n",
        "  def __init__(self, name, balance):\n",
        "\n",
        "#1 은행 이름, 예금주, 계좌번호, 잔액 설정\n",
        "#2 은행이름은 '모두은행'\n",
        "\n",
        "    self.name = name\n",
        "    self.balance = balance\n",
        "    self.account_number = self.generate_account_number()\n",
        "    self._deposit_count = 0\n",
        "    self._history = []\n",
        "\n",
        "    # 객체의 개수 저장\n",
        "    Account.num_accounts += 1\n",
        "\n",
        "    # 최초 입금시 카운트 및 내역갱신\n",
        "    if balance > 0:\n",
        "      self._deposit_count += 1\n",
        "      self._history.append((\"돈주세요\", balance, self.balance))\n",
        "\n",
        "#3 계좌번호는 3자리-2자리-6자리 형태로 랜덤하게 생성\n",
        "#  계좌번호 자릿수 체크하기\n",
        "\n",
        "  def generate_account_number(self):\n",
        "    num1 = str(r.randint(0, 999)).zfill(3)\n",
        "    num2 = str(r.randint(0, 99)).zfill(2)\n",
        "    num3 = str(r.randint(0, 999999)).zfill(6)\n",
        "    return num1 + '-' + num2 + '-' + num3\n",
        "\n",
        "#4 클래스 변수를 사용해서 Account 클래스로부터 생성된 계좌\n",
        "\n",
        "  def deposit(self, amount):\n",
        "\n",
        "    # 입금\n",
        "    if amount < 1:\n",
        "      print(\" Error : 1원 이상 입금 가능 \")\n",
        "      return False\n",
        "\n",
        "    amount = int(amount)\n",
        "    self.balance += amount\n",
        "    self._deposit_count += 1\n",
        "    self._history.append((\"입금\", amount, self.balance))\n",
        "\n",
        "    # 이자 : 5회 입금시 이자 지급\n",
        "    if self._deposit_count % 5 == 0:\n",
        "      interest = int(self.balance * 0.01)\n",
        "      self.balance += interest\n",
        "      self._history.append((\"옛다 먹어라, 이자지급\", interest, self.balance))\n",
        "\n",
        "    return True\n",
        "\n",
        "  # 출금\n",
        "  def withdraw(self, amount):\n",
        "\n",
        "    self.amount = amount\n",
        "    # 출금은 계좌의 잔고 이상으로 할 수 없음\n",
        "    if self.balance < 1:\n",
        "      return\n",
        "    else:\n",
        "      self.balance -= amount\n",
        "    # 출금 내역 기록\n",
        "      self._history.append((\"출금 돈주세요\", amount, self.balance))\n",
        "\n",
        "  # get_account_num() 생성된 계좌수 반환\n",
        "  def get_account_num():\n",
        "    return print(f\"{Account.num_accounts}\")\n",
        "\n",
        "  # history() 거래 내역 출력\n",
        "  def history(self):\n",
        "    for record in self._history:\n",
        "      print(record)\n",
        "\n",
        "\n",
        "# 클래스 생성 확인\n",
        "# help(Account)\n",
        "\n",
        "print(\" == 입출금 내역 확인 == \")\n",
        "\n",
        "my_account = Account(\"rainy\", 1000)\n",
        "\n",
        "for _ in range(5):      # 5번째 뒤에 이자 자동 기록\n",
        "    my_account.deposit(1000)\n",
        "for _ in range(5):      # 10번째 뒤에 또 이자 기록\n",
        "    my_account.deposit(1000)\n",
        "\n",
        "my_account.withdraw(3000)  # 마지막 기록(출금)\n",
        "\n",
        "# 2) 기록 라벨 정규화\n",
        "labels = []\n",
        "for kind, amount, bal in my_account._history:\n",
        "    kind = str(kind)\n",
        "    if \"이자\" in kind:\n",
        "        labels.append(\"이자지급\")\n",
        "    elif \"출금\" in kind:\n",
        "        labels.append(\"출금\")\n",
        "    elif \"입금\" in kind or \"돈주세요\" in kind:   # 최소수정 버전 호환\n",
        "        labels.append(\"입금\")\n",
        "    else:\n",
        "        labels.append(kind)\n",
        "\n",
        "# 3) 회차: 종류 (마지막 기록 직전까지만 출력)\n",
        "for i in range(len(my_account._history) - 1):\n",
        "    print(f\"{i+1}회: {labels[i]}\")\n",
        "\n",
        "# 4) 금액 라인 (마지막 직전까지만, for문으로 이어붙이기)\n",
        "amount_line = \"\"\n",
        "for i in range(len(my_account._history) - 1):\n",
        "    amount_line += f\"금액: {my_account._history[i][1]} \"\n",
        "print(amount_line.strip())\n",
        "\n",
        "# 5) 잔액 라인 (마지막 직전까지만)\n",
        "balance_line = \"\"\n",
        "for i in range(len(my_account._history) - 1):\n",
        "    balance_line += f\"잔액 : {my_account._history[i][2]} \"\n",
        "print(balance_line.strip())\n",
        "\n",
        "# 6) 마지막 기록(출금) 분리 출력\n",
        "last_idx = len(my_account._history) - 1\n",
        "print(f\"{last_idx+1}회: {labels[last_idx]}\")\n",
        "print(f\"금액: {my_account._history[last_idx][1]}\")\n",
        "print(f\"잔액 : {my_account._history[last_idx][2]}\")\n"
      ],
      "metadata": {
        "id": "BXSt5deaQKHV",
        "colab": {
          "base_uri": "https://localhost:8080/"
        },
        "outputId": "687e4c8e-b3d0-46a2-b7f7-c027056d0e40"
      },
      "execution_count": 1,
      "outputs": [
        {
          "output_type": "stream",
          "name": "stdout",
          "text": [
            " 입출금 내역 확인 \n",
            "1회: 입금\n",
            "2회: 입금\n",
            "3회: 입금\n",
            "4회: 입금\n",
            "5회: 입금\n",
            "6회: 이자지급\n",
            "7회: 입금\n",
            "8회: 입금\n",
            "9회: 입금\n",
            "10회: 입금\n",
            "11회: 입금\n",
            "12회: 이자지급\n",
            "13회: 입금\n",
            "금액: 1000 금액: 1000 금액: 1000 금액: 1000 금액: 1000 금액: 50 금액: 1000 금액: 1000 금액: 1000 금액: 1000 금액: 1000 금액: 100 금액: 1000\n",
            "잔액 : 1000 잔액 : 2000 잔액 : 3000 잔액 : 4000 잔액 : 5000 잔액 : 5050 잔액 : 6050 잔액 : 7050 잔액 : 8050 잔액 : 9050 잔액 : 10050 잔액 : 10150 잔액 : 11150\n",
            "14회: 출금\n",
            "금액: 3000\n",
            "잔액 : 8150\n"
          ]
        }
      ]
    },
    {
      "cell_type": "markdown",
      "source": [
        "# 테스트"
      ],
      "metadata": {
        "id": "U8s1kl9wS2bi"
      }
    },
    {
      "cell_type": "code",
      "source": [
        "account1 = Account(\"Cat1\", 1000)\n",
        "account1.withdraw(500)\n",
        "account1.deposit(100)\n",
        "account1.deposit(100)\n",
        "account1.deposit(100)\n",
        "account1.history()\n"
      ],
      "metadata": {
        "colab": {
          "base_uri": "https://localhost:8080/"
        },
        "id": "AId14mt7ibV4",
        "outputId": "e201ce76-4acd-43f9-d62c-babbedb79e5d"
      },
      "execution_count": null,
      "outputs": [
        {
          "output_type": "stream",
          "name": "stdout",
          "text": [
            "('돈주세요', 1000, 1000)\n",
            "('출금 돈주세요', 500, 500)\n",
            "('입금', 100, 600)\n",
            "('입금', 100, 700)\n",
            "('입금', 100, 800)\n"
          ]
        }
      ]
    },
    {
      "cell_type": "markdown",
      "source": [
        "확인 (^^)/ help(Account) 실행하여 클래스를 확인하였습니다.\n",
        "\n",
        "Help on class Account in module main:\n",
        "\n",
        "class Account(builtins.object) | Account(name, balance) | | Methods defined here: | | init(self, name, balance) | Initialize self. See help(type(self)) for accurate signature. | | deposit(self, amount) | | generate_account_number(self) | | get_account_num() | # get_account_num() 생성된 계좌수 반환 | | history(self) | # history() 거래 내역 출력 | | withdraw(self, amount) | # 출금\n",
        "\n",
        "| | ---------------------------------------------------------------------- | Data descriptors defined here: | | dict | dictionary for instance variables | | weakref | list of weak references to the object\n",
        "\n",
        "| | ---------------------------------------------------------------------- | Data and other attributes defined here: | | account_number = 0 | | bank_name = '모두은행' | | num_accounts = 0"
      ],
      "metadata": {
        "id": "kUPdkhXzoU8g"
      }
    }
  ]
}